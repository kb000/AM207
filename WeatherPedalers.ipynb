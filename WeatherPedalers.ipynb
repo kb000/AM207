{
 "cells": [
  {
   "cell_type": "markdown",
   "metadata": {},
   "source": [
    "# Fair Weather pedalers\n",
    "** Weather's effect on bike share ridership on the Hubway system in Boston and its environs. **  \n",
    "Kevin Burek &lt;<kburek@fas.harvard.edu>>, Joshua Mclellan &lt;<jvl.mclellan@gmail.com>>  \n",
    "Harvard AM 207 Spring 2016 Final Project  \n",
    "\n",
    "## Abstract\n",
    "The Hubway bicycle share system serves riders in the urban core and near suburbs of Boston.  We'd like to discover something about the riders who use the system.  In 2013, the service providers released a dataset which we will analyze with respect to historical weather data, in order to explore the validity of different modeling hypotheses.  In brief, we believe that ridership may be composed of different constituencies, commuters and joyriders, which are affected differently by varying weather conditions."
   ]
  },
  {
   "cell_type": "markdown",
   "metadata": {},
   "source": [
    "## Tools\n",
    "For analysis, we are using SciPy, NumPy, Pandas, PyMC, and Matplotlib.  \n",
    "Some other core python libaries are coming along for the ride, too."
   ]
  },
  {
   "cell_type": "code",
   "execution_count": 18,
   "metadata": {
    "collapsed": true
   },
   "outputs": [],
   "source": [
    "import numpy as np\n",
    "import matplotlib\n",
    "import matplotlib.pyplot as plt\n",
    "%matplotlib inline\n",
    "\n",
    "import seaborn as sns\n",
    "sns.set_style(\"white\")\n",
    "\n",
    "import time\n",
    "import timeit\n",
    "\n",
    "import dateutil.parser as dtp\n",
    "\n",
    "import scipy.stats as stats\n",
    "import pandas as pd\n",
    "import pymc as pm\n",
    "\n",
    "import re\n",
    "import numpy as np\n",
    "\n",
    "import string"
   ]
  },
  {
   "cell_type": "markdown",
   "metadata": {},
   "source": [
    "## Data\n",
    "The good folks at [Hubway](http://www.thehubway.com/) published the corpus of ridership logs from the system's inception in July 2011 through the end of the cycling season in 2013<sup>[[1]][@hubwaydatachallenge_zip]</sup>. For weather data, we turn to NOAA, whose [National Centers for Environmental Information](https://www.ncdc.noaa.gov/) provides the service of publishing [Climate Data Online](https://www.ncdc.noaa.gov/cdo-web/). We requested and received a data set including daily observed weather conditions for the relevant time period, for the Boston metropolitan area<sup>[[2]][@ncdc_boston]</sup>.\n",
    "\n",
    "\n",
    "[@hubwaydatachallenge_zip]: http://files.hubwaydatachallenge.org/hubway_2011_07_through_2013_11.zip \"Hubway Data Challenge. \"hubway_2011_07_through_2013_11\". Zip Archive. Retrieved 16 March 2016.\"\n",
    "\n",
    "[@ncdc_boston]: http://www.ncdc.noaa.gov/cdo-web/datasets/GHCND/locations/CITY:US250002/detail \"NOAA National Centers for Environmental Information. \"Daily Summaries Location Details: Boston, MA\"\""
   ]
  },
  {
   "cell_type": "code",
   "execution_count": 19,
   "metadata": {
    "collapsed": false
   },
   "outputs": [
    {
     "data": {
      "text/html": [
       "<div>\n",
       "<table border=\"1\" class=\"dataframe\">\n",
       "  <thead>\n",
       "    <tr style=\"text-align: right;\">\n",
       "      <th></th>\n",
       "      <th>STATION</th>\n",
       "      <th>STATION_NAME</th>\n",
       "      <th>ELEVATION</th>\n",
       "      <th>LATITUDE</th>\n",
       "      <th>LONGITUDE</th>\n",
       "      <th>DATE</th>\n",
       "      <th>DATETIME</th>\n",
       "      <th>PRCP</th>\n",
       "      <th>PRCP Measurement Flag</th>\n",
       "      <th>PRCP Quality Flag</th>\n",
       "      <th>...</th>\n",
       "      <th>TMIN</th>\n",
       "      <th>TMIN Measurement Flag</th>\n",
       "      <th>TMIN Quality Flag</th>\n",
       "      <th>TMIN Source Flag</th>\n",
       "      <th>TMIN Time of Observation</th>\n",
       "      <th>TOBS</th>\n",
       "      <th>TOBS Measurement Flag</th>\n",
       "      <th>TOBS Quality Flag</th>\n",
       "      <th>TOBS Source Flag</th>\n",
       "      <th>TOBS Time of Observation</th>\n",
       "    </tr>\n",
       "  </thead>\n",
       "  <tbody>\n",
       "    <tr>\n",
       "      <th>0</th>\n",
       "      <td>GHCND:USW00054704</td>\n",
       "      <td>NORWOOD MEMORIAL AIRPORT MA US</td>\n",
       "      <td>15.2</td>\n",
       "      <td>42.19083</td>\n",
       "      <td>-71.17361</td>\n",
       "      <td>20100101</td>\n",
       "      <td>2010-01-01T12:00</td>\n",
       "      <td>0</td>\n",
       "      <td>T</td>\n",
       "      <td></td>\n",
       "      <td>...</td>\n",
       "      <td>-38</td>\n",
       "      <td></td>\n",
       "      <td></td>\n",
       "      <td>W</td>\n",
       "      <td>NaN</td>\n",
       "      <td>NaN</td>\n",
       "      <td></td>\n",
       "      <td></td>\n",
       "      <td></td>\n",
       "      <td>NaN</td>\n",
       "    </tr>\n",
       "    <tr>\n",
       "      <th>1</th>\n",
       "      <td>GHCND:USW00054704</td>\n",
       "      <td>NORWOOD MEMORIAL AIRPORT MA US</td>\n",
       "      <td>15.2</td>\n",
       "      <td>42.19083</td>\n",
       "      <td>-71.17361</td>\n",
       "      <td>20100102</td>\n",
       "      <td>2010-01-02T12:00</td>\n",
       "      <td>23</td>\n",
       "      <td></td>\n",
       "      <td></td>\n",
       "      <td>...</td>\n",
       "      <td>-60</td>\n",
       "      <td></td>\n",
       "      <td></td>\n",
       "      <td>W</td>\n",
       "      <td>NaN</td>\n",
       "      <td>NaN</td>\n",
       "      <td></td>\n",
       "      <td></td>\n",
       "      <td></td>\n",
       "      <td>NaN</td>\n",
       "    </tr>\n",
       "    <tr>\n",
       "      <th>2</th>\n",
       "      <td>GHCND:USW00054704</td>\n",
       "      <td>NORWOOD MEMORIAL AIRPORT MA US</td>\n",
       "      <td>15.2</td>\n",
       "      <td>42.19083</td>\n",
       "      <td>-71.17361</td>\n",
       "      <td>20100103</td>\n",
       "      <td>2010-01-03T12:00</td>\n",
       "      <td>5</td>\n",
       "      <td></td>\n",
       "      <td></td>\n",
       "      <td>...</td>\n",
       "      <td>-93</td>\n",
       "      <td></td>\n",
       "      <td></td>\n",
       "      <td>W</td>\n",
       "      <td>NaN</td>\n",
       "      <td>NaN</td>\n",
       "      <td></td>\n",
       "      <td></td>\n",
       "      <td></td>\n",
       "      <td>NaN</td>\n",
       "    </tr>\n",
       "    <tr>\n",
       "      <th>3</th>\n",
       "      <td>GHCND:USW00054704</td>\n",
       "      <td>NORWOOD MEMORIAL AIRPORT MA US</td>\n",
       "      <td>15.2</td>\n",
       "      <td>42.19083</td>\n",
       "      <td>-71.17361</td>\n",
       "      <td>20100104</td>\n",
       "      <td>2010-01-04T12:00</td>\n",
       "      <td>0</td>\n",
       "      <td></td>\n",
       "      <td></td>\n",
       "      <td>...</td>\n",
       "      <td>-88</td>\n",
       "      <td></td>\n",
       "      <td></td>\n",
       "      <td>W</td>\n",
       "      <td>NaN</td>\n",
       "      <td>NaN</td>\n",
       "      <td></td>\n",
       "      <td></td>\n",
       "      <td></td>\n",
       "      <td>NaN</td>\n",
       "    </tr>\n",
       "    <tr>\n",
       "      <th>4</th>\n",
       "      <td>GHCND:USW00054704</td>\n",
       "      <td>NORWOOD MEMORIAL AIRPORT MA US</td>\n",
       "      <td>15.2</td>\n",
       "      <td>42.19083</td>\n",
       "      <td>-71.17361</td>\n",
       "      <td>20100105</td>\n",
       "      <td>2010-01-05T12:00</td>\n",
       "      <td>0</td>\n",
       "      <td></td>\n",
       "      <td></td>\n",
       "      <td>...</td>\n",
       "      <td>-93</td>\n",
       "      <td></td>\n",
       "      <td></td>\n",
       "      <td>W</td>\n",
       "      <td>NaN</td>\n",
       "      <td>NaN</td>\n",
       "      <td></td>\n",
       "      <td></td>\n",
       "      <td></td>\n",
       "      <td>NaN</td>\n",
       "    </tr>\n",
       "  </tbody>\n",
       "</table>\n",
       "<p>5 rows × 37 columns</p>\n",
       "</div>"
      ],
      "text/plain": [
       "             STATION                    STATION_NAME  ELEVATION  LATITUDE  \\\n",
       "0  GHCND:USW00054704  NORWOOD MEMORIAL AIRPORT MA US       15.2  42.19083   \n",
       "1  GHCND:USW00054704  NORWOOD MEMORIAL AIRPORT MA US       15.2  42.19083   \n",
       "2  GHCND:USW00054704  NORWOOD MEMORIAL AIRPORT MA US       15.2  42.19083   \n",
       "3  GHCND:USW00054704  NORWOOD MEMORIAL AIRPORT MA US       15.2  42.19083   \n",
       "4  GHCND:USW00054704  NORWOOD MEMORIAL AIRPORT MA US       15.2  42.19083   \n",
       "\n",
       "   LONGITUDE      DATE          DATETIME  PRCP PRCP Measurement Flag  \\\n",
       "0  -71.17361  20100101  2010-01-01T12:00     0                     T   \n",
       "1  -71.17361  20100102  2010-01-02T12:00    23                         \n",
       "2  -71.17361  20100103  2010-01-03T12:00     5                         \n",
       "3  -71.17361  20100104  2010-01-04T12:00     0                         \n",
       "4  -71.17361  20100105  2010-01-05T12:00     0                         \n",
       "\n",
       "  PRCP Quality Flag           ...            TMIN  TMIN Measurement Flag  \\\n",
       "0                             ...             -38                          \n",
       "1                             ...             -60                          \n",
       "2                             ...             -93                          \n",
       "3                             ...             -88                          \n",
       "4                             ...             -93                          \n",
       "\n",
       "   TMIN Quality Flag TMIN Source Flag TMIN Time of Observation TOBS  \\\n",
       "0                                   W                      NaN  NaN   \n",
       "1                                   W                      NaN  NaN   \n",
       "2                                   W                      NaN  NaN   \n",
       "3                                   W                      NaN  NaN   \n",
       "4                                   W                      NaN  NaN   \n",
       "\n",
       "   TOBS Measurement Flag  TOBS Quality Flag TOBS Source Flag  \\\n",
       "0                                                              \n",
       "1                                                              \n",
       "2                                                              \n",
       "3                                                              \n",
       "4                                                              \n",
       "\n",
       "  TOBS Time of Observation  \n",
       "0                      NaN  \n",
       "1                      NaN  \n",
       "2                      NaN  \n",
       "3                      NaN  \n",
       "4                      NaN  \n",
       "\n",
       "[5 rows x 37 columns]"
      ]
     },
     "execution_count": 19,
     "metadata": {},
     "output_type": "execute_result"
    }
   ],
   "source": [
    "# Set a flag for whether to load the whole data set, or just a portion.\n",
    "load_all = False\n",
    "nb_root = \"\"\n",
    "# Read ridership data\n",
    "rides_path = \"data/hubway_2011_07_through_2013_11/%shubway_trips.csv\"\n",
    "raw_rides = pd.read_csv(nb_root + rides_path % \"\") if load_all else pd.read_csv(nb_root + rides_path % \"fewer_\")\n",
    "# Read weather data\n",
    "weather_na = (\"unknown\", \"9999\", \"-9999\")\n",
    "raw_weather = pd.read_csv(nb_root + \"data/ncdc-2013.csv\", na_values=weather_na)\n",
    "\n",
    "raw_weather.head()"
   ]
  },
  {
   "cell_type": "code",
   "execution_count": 20,
   "metadata": {
    "collapsed": false
   },
   "outputs": [
    {
     "data": {
      "text/html": [
       "<div>\n",
       "<table border=\"1\" class=\"dataframe\">\n",
       "  <thead>\n",
       "    <tr style=\"text-align: right;\">\n",
       "      <th></th>\n",
       "      <th></th>\n",
       "      <th>YEAR</th>\n",
       "      <th>MONTH</th>\n",
       "      <th>DAY</th>\n",
       "    </tr>\n",
       "    <tr>\n",
       "      <th>STATION</th>\n",
       "      <th>DATE</th>\n",
       "      <th></th>\n",
       "      <th></th>\n",
       "      <th></th>\n",
       "    </tr>\n",
       "  </thead>\n",
       "  <tbody>\n",
       "    <tr>\n",
       "      <th rowspan=\"5\" valign=\"top\">GHCND:USW00054704</th>\n",
       "      <th>20100101</th>\n",
       "      <td>2010</td>\n",
       "      <td>01</td>\n",
       "      <td>01</td>\n",
       "    </tr>\n",
       "    <tr>\n",
       "      <th>20100102</th>\n",
       "      <td>2010</td>\n",
       "      <td>01</td>\n",
       "      <td>02</td>\n",
       "    </tr>\n",
       "    <tr>\n",
       "      <th>20100103</th>\n",
       "      <td>2010</td>\n",
       "      <td>01</td>\n",
       "      <td>03</td>\n",
       "    </tr>\n",
       "    <tr>\n",
       "      <th>20100104</th>\n",
       "      <td>2010</td>\n",
       "      <td>01</td>\n",
       "      <td>04</td>\n",
       "    </tr>\n",
       "    <tr>\n",
       "      <th>20100105</th>\n",
       "      <td>2010</td>\n",
       "      <td>01</td>\n",
       "      <td>05</td>\n",
       "    </tr>\n",
       "  </tbody>\n",
       "</table>\n",
       "</div>"
      ],
      "text/plain": [
       "                            YEAR MONTH DAY\n",
       "STATION           DATE                    \n",
       "GHCND:USW00054704 20100101  2010    01  01\n",
       "                  20100102  2010    01  02\n",
       "                  20100103  2010    01  03\n",
       "                  20100104  2010    01  04\n",
       "                  20100105  2010    01  05"
      ]
     },
     "execution_count": 20,
     "metadata": {},
     "output_type": "execute_result"
    }
   ],
   "source": [
    "weather = pd.DataFrame();\n",
    "weather['STATION'] = raw_weather['STATION']\n",
    "weather['DATE'] = raw_weather['DATE']\n",
    "weather.set_index(['STATION', 'DATE'], drop=True, inplace=True)\n",
    "weather['YEAR'] = [d[0:4] for d in raw_weather['DATE'].astype(np.str_)]\n",
    "weather['MONTH'] = [d[4:6] for d in raw_weather['DATE'].astype(np.str_)]\n",
    "weather['DAY'] = [d[6:] for d in raw_weather['DATE'].astype(np.str_)]\n",
    "weather.head()\n"
   ]
  },
  {
   "cell_type": "markdown",
   "metadata": {},
   "source": [
    "## Cleaning\n",
    "Here we clean the data for analysis.  \n",
    "\n",
    "### Augmenting ridership data\n",
    "The ridership data has some properties that aren't well expressed in its current form. We calculate and add columns for the following extracted properties:  \n",
    "* Start & End day of week (0/Monday - 6/Sunday) \n",
    "* Start & End time of day (00:00 - 23:59)\n",
    "* ... Duration, rider age, ...\n",
    "\n",
    "Additionally, we pickle the processed data so that we don't have to parse the csv for every new run."
   ]
  },
  {
   "cell_type": "code",
   "execution_count": 21,
   "metadata": {
    "collapsed": false
   },
   "outputs": [
    {
     "name": "stdout",
     "output_type": "stream",
     "text": [
      "Wall time: 12.8 s\n",
      "Wall time: 15.1 s\n"
     ]
    }
   ],
   "source": [
    "do_rebuild = False\n",
    "ride_pickle_name = 'rides_pickle'\n",
    "try:\n",
    "    if do_rebuild: raise 'abort.';\n",
    "    rides = pd.read_pickle(ride_pickle_name)\n",
    "except:\n",
    "    import dateutil.parser as dtp\n",
    "    rides = raw_rides.copy()\n",
    "    totalseconds = lambda t: (t.hour*60 + t.minute)*60 + t.second\n",
    "    for endpoint in ('start', 'end'):\n",
    "        %time datetimes = [dtp.parse(d) for d in rides[endpoint + '_date']]\n",
    "        rides.loc[:,endpoint + '_datetime'] = pd.Series(datetimes, index = rides.index)\n",
    "        rides.loc[:,endpoint + '_weekday'] = pd.Series([d.weekday() for d in datetimes], index = rides.index)\n",
    "        rides.loc[:,endpoint + '_seconds'] = pd.Series([totalseconds(d.time()) for d in datetimes], index = rides.index)\n",
    "    \n",
    "    rides.to_pickle(ride_pickle_name)\n",
    "\n",
    "\n"
   ]
  },
  {
   "cell_type": "markdown",
   "metadata": {},
   "source": [
    "### Augmenting weather data\n",
    "The raw weather data needs measurement flag columns renamed to associate them with the measurement dimensions they describe.  For now, we use pre-processed data.\n"
   ]
  },
  {
   "cell_type": "code",
   "execution_count": null,
   "metadata": {
    "collapsed": true
   },
   "outputs": [],
   "source": []
  },
  {
   "cell_type": "markdown",
   "metadata": {},
   "source": [
    "# Formulating the likelihood\n",
    "To generate a posterior predictive, we will eventually need\n",
    "$$ P(\\Theta | D) = \\frac{P(D|\\Theta)P(\\Theta)}{P(D)} $$\n",
    "The likelihood is a product over all of our ridership data $R$ and spread across heirarchical model components $L$ for each rental location:\n",
    "$$ \\mathscr{L} = P(D | \\Theta) = \\prod_R { \\sum_L { p\\left(t_d, w_d, \\omega, s\\ |\\ \\mu_t, \\sigma_t, \\lambda_d, c\\right) } } $$\n",
    "\n",
    "With data dimensions:  \n",
    "$t_d$: Time of departure $\\in$ $[$0/Midnight $\\dots$ 43200/Noon $\\dots$ 86400/Midnight$)$  \n",
    "$w_d$: Weekday of departure $\\in$ $\\{$0/Monday $\\dots$ 6/Sunday$\\}$  \n",
    "$\\omega$: Weather quality $\\propto {f}($temperature, sunlight, $\\dots)$  \n",
    "$s$: Subscription status $\\in$ $\\{0,1\\}$\n",
    "\n",
    "With model parameters:  \n",
    "$\\mu_t$: Mean time of departure $\\in$ $[$0/Midnight $\\dots$ 43200/Noon $\\dots$ 86400/Midnight$)$  \n",
    "$\\sigma_t$: Deviation in time of departure $\\in$ $[0,\\infty)$  \n",
    "$\\lambda_w$: Ratio of weekday departures $\\in$ $[0,1)$ such that $\\left(\\sum_{i=0}^{6}{\\lambda_{w_i}}\\right) = 1$  \n",
    "$c$: Rider Commitment $\\in$ $\\{$0/Joyrider, 1/Commuter$\\}$  \n"
   ]
  },
  {
   "cell_type": "markdown",
   "metadata": {},
   "source": [
    "The likelihood is a beast.  First, we can write the location-likelihood as a linear function of the fair-weather likelihood:  \n",
    "$$\\mathscr{L}_L = \\omega(\\mathscr{L}_f) + b + \\varepsilon$$\n",
    "The fair-weather likelihood is mixture of gaussians:  \n",
    "$$\\begin{align}  \n",
    "\\mathscr{L}_f\n",
    "= & c_0\\cdot\\left(\\sum_w{\\lambda_w\\left(\\mathcal{N}\\left(t_d\\mid\\mu_{t_{c_0}L}, \\sigma_{t_{c_0}}\\right)\\right)}\\right) \n",
    "+ c_1\\cdot\\left(\\sum_w{\\lambda_w\\left(\\mathcal{N}\\left(t_d\\mid\\mu_{t_{c_1}L}, \\sigma_{t_{c_\\overline{0}}}\\right)\\right)}\\right)\n",
    "+ c_2\\cdot\\left(\\sum_w{\\lambda_w\\left(\\mathcal{N}\\left(t_d\\mid\\mu_{t_{c_2}L}, \\sigma_{t_{c_\\overline{0}}}\\right)\\right)}\\right)\n",
    "\\end{align}$$\n",
    "\n",
    "[expanded_exponentials]: mathTeX:saved/for/later \"(1-c)\\cdot\\left(\\sum_w{\\lambda_w\\left(exp\\left[\\frac{-(t_d-\\mu_{t_\\overline{c}L})^2}{{\\sigma_{t_{\\overline{c}}}}^2}\\right]\\right)}\\right) + \\frac{c}{2}\\cdot\\left(\\sum_w{\\lambda_w\\left(exp\\left[\\frac{-(t_d-\\mu_{t_{c1}L})^2}{{\\sigma_{t_c}}^2}\\right] + exp\\left[\\frac{-(t_d-\\mu_{t_{c2}L})^2}{{\\sigma_{t_c}}^2}\\right]\\right)}\\right) \\\\ \""
   ]
  },
  {
   "cell_type": "markdown",
   "metadata": {},
   "source": [
    "## Labeling commitment on weekday rides\n",
    "\n",
    "We will use expectation maximization to attempt recovery of the hidden commitment label $c$.  For now, we will work with a simplified form of the likelihood, where we don't account for day of week (therefore there are no $\\lambda_w$), nor weather (we look at only $\\mathscr{L}_f$), and the model is completely pooled (no heirarchy around the location $L$)\n",
    "\n",
    "The E-step will find the expectation values of the mixure ratios, $c_i$.\n",
    "\n",
    "\n",
    "The M-step will maximize the likelihood with respect to the parameters of the mixture components, $\\mu_{t_{c_i}}$ and $\\sigma_{t_{c_i}}$.  We will use MLE for the updates."
   ]
  },
  {
   "cell_type": "code",
   "execution_count": 51,
   "metadata": {
    "collapsed": false
   },
   "outputs": [],
   "source": [
    "# Find weights for each c_i given the data and current mixture parameters.\n",
    "def e_step(data, mu, sigma, lam):\n",
    "    \"\"\"\n",
    "    Find weights for each c_i given the data and current mixture parameters\n",
    "    :data: pandas dataframe with 'start_seconds'\n",
    "    :mu: array of 3 of mixture time means.\n",
    "    :sigma: array of 3 of mixture time deviations.\n",
    "    :return: weights [c_0, c_1, c_2] for each item in data.\n",
    "    \"\"\"\n",
    "    td = np.array(data['start_seconds']) # Time of departure\n",
    "    c0 = stats.norm.pdf(td, mu[0], sigma[0]) * lam[0]\n",
    "    c1 = stats.norm.pdf(td, mu[1], sigma[1]) * lam[1]\n",
    "    c2 = stats.norm.pdf(td, mu[2], sigma[2]) * lam[2]\n",
    "    cs = np.array([c0, c1, c2])/np.sum(np.array([c0,c1,c2]), axis=0)  # Normalized array of c weights.\n",
    "    return cs\n",
    "\n",
    "\n",
    "# Update mixture parameters given the data and the current mixture weights.\n",
    "def m_step(data, cs):\n",
    "    \"\"\"\n",
    "    Update mixture parameters given the data and the current mixture weights.\n",
    "    :param data: pandas dataframe with 'start_seconds'\n",
    "    :param cs: array of mixture weights.\n",
    "    :return: hash {'mu', 'sigma', 'lambda'}\n",
    "    \"\"\"\n",
    "    #Update mixture parameters using MLE.\n",
    "    td = np.array(data['start_seconds'])\n",
    "\n",
    "    lmbdas = np.mean(cs, axis=1)\n",
    "    mus = np.array([np.sum(td*w)/np.sum(w) for w in cs])\n",
    "    sigs = np.sqrt(np.array([np.sum(cs[j]*(td-mus[j])*(td-mus[j]))/np.sum(cs[j]) for j in range(len(mus))]))\n",
    "\n",
    "    return {'mu': mus, 'sigma': sigs, 'lambda': lmbdas}\n"
   ]
  },
  {
   "cell_type": "code",
   "execution_count": 47,
   "metadata": {
    "collapsed": false
   },
   "outputs": [],
   "source": [
    "doPrint = False\n",
    "def fit_three_gaussians(rides):\n",
    "    # Guess some parameters to get us started.\n",
    "    guess_mus = [14 * 60 * 60, 8 * 60 * 60, 17 * 60 * 60]\n",
    "    guess_sigmas = [3 * 60 * 60, 1 * 60 * 60, 1 * 60 * 60]\n",
    "    guess_lams = [1, 1, 1]\n",
    "    c_weights = e_step(rides, guess_mus, guess_sigmas, guess_lams)\n",
    "\n",
    "    # Run E-M iteration until the weights don't change, or we lose patience.\n",
    "    itr = 0\n",
    "    old_c_weights = np.zeros(c_weights.shape)\n",
    "    parms = {}\n",
    "    while np.sum(np.abs(c_weights - old_c_weights)) > .0001:\n",
    "        itr += 1\n",
    "        old_c_weights = c_weights\n",
    "        parms = m_step(rides, c_weights)\n",
    "        if doPrint and itr % 100 == 0:\n",
    "            print 'Model parameters: %s' % str(parms)\n",
    "        c_weights = e_step(rides, parms['mu'], parms['sigma'], parms['lambda'])\n",
    "        if doPrint and itr % 100 == 0:\n",
    "            print 'Weights: %s' % str(c_weights)\n",
    "        if itr > 10000:\n",
    "            print \"Incomplete!\"\n",
    "            break\n",
    "    return parms\n",
    "            \n",
    "parms = fit_three_gaussians(rides)"
   ]
  },
  {
   "cell_type": "code",
   "execution_count": 48,
   "metadata": {
    "collapsed": false
   },
   "outputs": [
    {
     "data": {
      "image/png": "[encoded data removed]",
      "text/plain": [
       "<matplotlib.figure.Figure at 0x2785e278>"
      ]
     },
     "metadata": {},
     "output_type": "display_data"
    }
   ],
   "source": [
    "# Plot the mixture of gaussians we just fit.\n",
    "x = np.linspace(0,60*60*24, num=100000)\n",
    "x_hr = x / (60.*60.)\n",
    "plt.title(\"Mixture of 3 gaussians fit to rides\")\n",
    "plt.plot(x_hr, stats.norm.pdf(x, parms['mu'][0], parms['sigma'][0])*parms['lambda'][0], color='blue')\n",
    "plt.plot(x_hr, stats.norm.pdf(x, parms['mu'][1], parms['sigma'][1])*parms['lambda'][1], color='green')\n",
    "plt.plot(x_hr, stats.norm.pdf(x, parms['mu'][2], parms['sigma'][2])*parms['lambda'][2], color='red')\n",
    "plt.xlabel(\"Hour of day\")\n",
    "plt.show()"
   ]
  },
  {
   "cell_type": "markdown",
   "metadata": {},
   "source": [
    "Well that's not what we expected.  Those weekend bar-flies hijacked our joyrider's distribution.  \n",
    "Let's try just weekdays."
   ]
  },
  {
   "cell_type": "code",
   "execution_count": 50,
   "metadata": {
    "collapsed": false
   },
   "outputs": [
    {
     "data": {
      "image/png": "[encoded data removed]",
      "text/plain": [
       "<matplotlib.figure.Figure at 0x285f5ba8>"
      ]
     },
     "metadata": {},
     "output_type": "display_data"
    }
   ],
   "source": [
    "wparms = fit_three_gaussians(rides[rides['start_weekday'] < 5])\n",
    "\n",
    "# Plot the mixture of gaussians we just fit.\n",
    "x = np.linspace(0,60*60*24, num=100000)\n",
    "x_hr = x / (60.*60.)\n",
    "plt.title(\"Mixture of 3 gaussians fit to weekday riders\")\n",
    "plt.plot(x_hr, stats.norm.pdf(x, wparms['mu'][0], wparms['sigma'][0])*wparms['lambda'][0], color='blue', label=\"joyriders\")\n",
    "plt.plot(x_hr, stats.norm.pdf(x, wparms['mu'][1], wparms['sigma'][1])*wparms['lambda'][1], color='green', label=\"morning\")\n",
    "plt.plot(x_hr, stats.norm.pdf(x, wparms['mu'][2], wparms['sigma'][2])*wparms['lambda'][2], color='red', label=\"evening\")\n",
    "plt.legend()\n",
    "plt.xlabel(\"Hour of day\")\n",
    "plt.show()"
   ]
  },
  {
   "cell_type": "markdown",
   "metadata": {},
   "source": [
    "Excellent.  We were able to fit a mixture model of three gaussians, and it fits our hypothesis that there are short a morning and evening commutes, and a wider range of time when people tend to joyride in the afternoon.\n",
    "\n",
    "TODO: Metrics on goodness of fit vs 2, 4 gaussians: Training vs test, posterior predictive?"
   ]
  },
  {
   "cell_type": "markdown",
   "metadata": {},
   "source": [
    "# Next steps\n",
    "\n",
    "### Building a heirarchical model\n",
    "We will use separate lambdas and mus per station, but use common hyperparameters to tie the stations together.  In addition, the variances will be shared across the system.\n",
    "\n",
    "\n",
    "### Incorporating weather data\n",
    "I would bet that the m-step won't be able to just use an MLE, because we no longer have a conjugate model.  We could use simulated annealing?  I've experimentd with this already (see prototyping/sa_em.py, prototyping/mix_model.py, prototyping/simulated_annealer.py).  I'd like to know if I can speed up SA, because it seems to take hundreds of thousands of iterations of SA to accomplish one m-step.  Also, the simulated annealer needs a lot of tweaking when the energy function blows up because of the hugely negative log likelihood that occurs when you add together log likelihoods for around a million data points."
   ]
  },
  {
   "cell_type": "markdown",
   "metadata": {},
   "source": [
    "## Investigating other properties of the data\n",
    "Here we look at a histogram of rider ages."
   ]
  },
  {
   "cell_type": "code",
   "execution_count": 79,
   "metadata": {
    "collapsed": false
   },
   "outputs": [
    {
     "name": "stdout",
     "output_type": "stream",
     "text": [
      "(array([  74,  179,  329,  805, 1235, 1081, 1316, 1768, 2576, 2258, 1942,\n",
      "       2641, 2038, 2105, 2028, 1558, 1374, 1728, 1382, 1478, 1381, 1262,\n",
      "        946,  900, 1408,  833,  953,  881, 1318,  793,  580,  819, 1016,\n",
      "        521,  718,  758,  564,  777,  527,  405,  293,  457,  282,  189,\n",
      "        286,  181,  150,  202,  114,  125,   41,   23,   54,    5,   27,\n",
      "         14,   13,    0,    0,    0,    0,    5], dtype=int64), array([ 17.,  18.,  19.,  20.,  21.,  22.,  23.,  24.,  25.,  26.,  27.,\n",
      "        28.,  29.,  30.,  31.,  32.,  33.,  34.,  35.,  36.,  37.,  38.,\n",
      "        39.,  40.,  41.,  42.,  43.,  44.,  45.,  46.,  47.,  48.,  49.,\n",
      "        50.,  51.,  52.,  53.,  54.,  55.,  56.,  57.,  58.,  59.,  60.,\n",
      "        61.,  62.,  63.,  64.,  65.,  66.,  67.,  68.,  69.,  70.,  71.,\n",
      "        72.,  73.,  74.,  75.,  76.,  77.,  78.,  79.]))\n"
     ]
    },
    {
     "data": {
      "image/png": "[encoded data removed]",
      "text/plain": [
       "<matplotlib.figure.Figure at 0x213d3eb8>"
      ]
     },
     "metadata": {},
     "output_type": "display_data"
    }
   ],
   "source": [
    "rides = rides.dropna()\n",
    "ages = [d.year for d in rides['start_datetime']] - rides['birth_date']\n",
    "\n",
    "nbins = np.max(ages) - np.min(ages)\n",
    "print np.histogram(ages, bins=nbins)\n",
    "plt.hist(ages, bins=nbins)\n",
    "plt.show()\n"
   ]
  }
 ],
 "metadata": {
  "kernelspec": {
   "display_name": "Python 2",
   "language": "python",
   "name": "python2"
  },
  "language_info": {
   "codemirror_mode": {
    "name": "ipython",
    "version": 2
   },
   "file_extension": ".py",
   "mimetype": "text/x-python",
   "name": "python",
   "nbconvert_exporter": "python",
   "pygments_lexer": "ipython2",
   "version": "2.7.11"
  }
 },
 "nbformat": 4,
 "nbformat_minor": 0
}
