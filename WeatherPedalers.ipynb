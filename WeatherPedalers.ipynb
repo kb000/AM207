{
 "cells": [
  {
   "cell_type": "markdown",
   "metadata": {},
   "source": [
    "# Fair Weather pedalers\n",
    "** Weather's effect on bike share ridership on the Hubway system in Boston and its environs. **  \n",
    "Kevin Burek &lt;<kburek@fas.harvard.edu>>, Joshua Mclellan &lt;<jvl.mclellan@gmail.com>>  \n",
    "Harvard AM 207 Spring 2016 Final Project  \n",
    "\n",
    "## Abstract\n",
    "The Hubway bicycle share system serves riders in the urban core and near suburbs of Boston.  We'd like to discover something about the riders who use the system.  In 2013, the service providers released a dataset which we will analyze with respect to historical weather data, in order to explore the validity of different modeling hypotheses.  In brief, we believe that ridership may be composed of different constituencies, commuters and joyriders, which are affected differently by varying weather conditions."
   ]
  },
  {
   "cell_type": "markdown",
   "metadata": {},
   "source": [
    "## Tools\n",
    "For analysis, we are using SciPy, NumPy, Pandas, PyMC, and Matplotlib.  \n",
    "Some other core python libaries are coming along for the ride, too."
   ]
  },
  {
   "cell_type": "code",
   "execution_count": 42,
   "metadata": {
    "collapsed": true
   },
   "outputs": [],
   "source": [
    "import numpy as np\n",
    "import matplotlib\n",
    "import matplotlib.pyplot as plt\n",
    "%matplotlib inline\n",
    "\n",
    "import seaborn as sns\n",
    "sns.set_style(\"white\")\n",
    "\n",
    "import time\n",
    "import timeit\n",
    "\n",
    "import dateutil.parser as dtp\n",
    "\n",
    "import scipy.stats \n",
    "import pandas as pd\n",
    "import pymc as pm\n",
    "\n",
    "import re\n",
    "import numpy as np\n",
    "\n",
    "import string"
   ]
  },
  {
   "cell_type": "markdown",
   "metadata": {},
   "source": [
    "## Data\n",
    "The good folks at [Hubway](http://www.thehubway.com/) published the corpus of ridership logs from the system's inception in July 2011 through the end of the cycling season in 2013<sup>[[1]][@hubwaydatachallenge_zip]</sup>. For weather data, we turn to NOAA, whose [National Centers for Environmental Information](https://www.ncdc.noaa.gov/) provides the service of publishing [Climate Data Online](https://www.ncdc.noaa.gov/cdo-web/). We requested and received a data set including daily observed weather conditions for the relevant time period, for the Boston metropolitan area<sup>[[2]][@ncdc_boston]</sup>.\n",
    "\n",
    "\n",
    "[@hubwaydatachallenge_zip]: http://files.hubwaydatachallenge.org/hubway_2011_07_through_2013_11.zip \"Hubway Data Challenge. \"hubway_2011_07_through_2013_11\". Zip Archive. Retrieved 16 March 2016.\"\n",
    "\n",
    "[@ncdc_boston]: http://www.ncdc.noaa.gov/cdo-web/datasets/GHCND/locations/CITY:US250002/detail \"NOAA National Centers for Environmental Information. \"Daily Summaries Location Details: Boston, MA\"\""
   ]
  },
  {
   "cell_type": "code",
   "execution_count": 38,
   "metadata": {
    "collapsed": false
   },
   "outputs": [
    {
     "data": {
      "text/html": [
       "<div>\n",
       "<table border=\"1\" class=\"dataframe\">\n",
       "  <thead>\n",
       "    <tr style=\"text-align: right;\">\n",
       "      <th></th>\n",
       "      <th>STATION</th>\n",
       "      <th>STATION_NAME</th>\n",
       "      <th>ELEVATION</th>\n",
       "      <th>LATITUDE</th>\n",
       "      <th>LONGITUDE</th>\n",
       "      <th>DATE</th>\n",
       "      <th>DATETIME</th>\n",
       "      <th>PRCP</th>\n",
       "      <th>PRCP Measurement Flag</th>\n",
       "      <th>PRCP Quality Flag</th>\n",
       "      <th>...</th>\n",
       "      <th>TMIN</th>\n",
       "      <th>TMIN Measurement Flag</th>\n",
       "      <th>TMIN Quality Flag</th>\n",
       "      <th>TMIN Source Flag</th>\n",
       "      <th>TMIN Time of Observation</th>\n",
       "      <th>TOBS</th>\n",
       "      <th>TOBS Measurement Flag</th>\n",
       "      <th>TOBS Quality Flag</th>\n",
       "      <th>TOBS Source Flag</th>\n",
       "      <th>TOBS Time of Observation</th>\n",
       "    </tr>\n",
       "  </thead>\n",
       "  <tbody>\n",
       "    <tr>\n",
       "      <th>0</th>\n",
       "      <td>GHCND:USW00054704</td>\n",
       "      <td>NORWOOD MEMORIAL AIRPORT MA US</td>\n",
       "      <td>15.2</td>\n",
       "      <td>42.19083</td>\n",
       "      <td>-71.17361</td>\n",
       "      <td>20100101</td>\n",
       "      <td>2010-01-01T12:00</td>\n",
       "      <td>0.0</td>\n",
       "      <td>T</td>\n",
       "      <td></td>\n",
       "      <td>...</td>\n",
       "      <td>-38.0</td>\n",
       "      <td></td>\n",
       "      <td></td>\n",
       "      <td>W</td>\n",
       "      <td>NaN</td>\n",
       "      <td>NaN</td>\n",
       "      <td></td>\n",
       "      <td></td>\n",
       "      <td></td>\n",
       "      <td>NaN</td>\n",
       "    </tr>\n",
       "    <tr>\n",
       "      <th>1</th>\n",
       "      <td>GHCND:USW00054704</td>\n",
       "      <td>NORWOOD MEMORIAL AIRPORT MA US</td>\n",
       "      <td>15.2</td>\n",
       "      <td>42.19083</td>\n",
       "      <td>-71.17361</td>\n",
       "      <td>20100102</td>\n",
       "      <td>2010-01-02T12:00</td>\n",
       "      <td>23.0</td>\n",
       "      <td></td>\n",
       "      <td></td>\n",
       "      <td>...</td>\n",
       "      <td>-60.0</td>\n",
       "      <td></td>\n",
       "      <td></td>\n",
       "      <td>W</td>\n",
       "      <td>NaN</td>\n",
       "      <td>NaN</td>\n",
       "      <td></td>\n",
       "      <td></td>\n",
       "      <td></td>\n",
       "      <td>NaN</td>\n",
       "    </tr>\n",
       "    <tr>\n",
       "      <th>2</th>\n",
       "      <td>GHCND:USW00054704</td>\n",
       "      <td>NORWOOD MEMORIAL AIRPORT MA US</td>\n",
       "      <td>15.2</td>\n",
       "      <td>42.19083</td>\n",
       "      <td>-71.17361</td>\n",
       "      <td>20100103</td>\n",
       "      <td>2010-01-03T12:00</td>\n",
       "      <td>5.0</td>\n",
       "      <td></td>\n",
       "      <td></td>\n",
       "      <td>...</td>\n",
       "      <td>-93.0</td>\n",
       "      <td></td>\n",
       "      <td></td>\n",
       "      <td>W</td>\n",
       "      <td>NaN</td>\n",
       "      <td>NaN</td>\n",
       "      <td></td>\n",
       "      <td></td>\n",
       "      <td></td>\n",
       "      <td>NaN</td>\n",
       "    </tr>\n",
       "    <tr>\n",
       "      <th>3</th>\n",
       "      <td>GHCND:USW00054704</td>\n",
       "      <td>NORWOOD MEMORIAL AIRPORT MA US</td>\n",
       "      <td>15.2</td>\n",
       "      <td>42.19083</td>\n",
       "      <td>-71.17361</td>\n",
       "      <td>20100104</td>\n",
       "      <td>2010-01-04T12:00</td>\n",
       "      <td>0.0</td>\n",
       "      <td></td>\n",
       "      <td></td>\n",
       "      <td>...</td>\n",
       "      <td>-88.0</td>\n",
       "      <td></td>\n",
       "      <td></td>\n",
       "      <td>W</td>\n",
       "      <td>NaN</td>\n",
       "      <td>NaN</td>\n",
       "      <td></td>\n",
       "      <td></td>\n",
       "      <td></td>\n",
       "      <td>NaN</td>\n",
       "    </tr>\n",
       "    <tr>\n",
       "      <th>4</th>\n",
       "      <td>GHCND:USW00054704</td>\n",
       "      <td>NORWOOD MEMORIAL AIRPORT MA US</td>\n",
       "      <td>15.2</td>\n",
       "      <td>42.19083</td>\n",
       "      <td>-71.17361</td>\n",
       "      <td>20100105</td>\n",
       "      <td>2010-01-05T12:00</td>\n",
       "      <td>0.0</td>\n",
       "      <td></td>\n",
       "      <td></td>\n",
       "      <td>...</td>\n",
       "      <td>-93.0</td>\n",
       "      <td></td>\n",
       "      <td></td>\n",
       "      <td>W</td>\n",
       "      <td>NaN</td>\n",
       "      <td>NaN</td>\n",
       "      <td></td>\n",
       "      <td></td>\n",
       "      <td></td>\n",
       "      <td>NaN</td>\n",
       "    </tr>\n",
       "  </tbody>\n",
       "</table>\n",
       "<p>5 rows × 37 columns</p>\n",
       "</div>"
      ],
      "text/plain": [
       "             STATION                    STATION_NAME  ELEVATION  LATITUDE  \\\n",
       "0  GHCND:USW00054704  NORWOOD MEMORIAL AIRPORT MA US       15.2  42.19083   \n",
       "1  GHCND:USW00054704  NORWOOD MEMORIAL AIRPORT MA US       15.2  42.19083   \n",
       "2  GHCND:USW00054704  NORWOOD MEMORIAL AIRPORT MA US       15.2  42.19083   \n",
       "3  GHCND:USW00054704  NORWOOD MEMORIAL AIRPORT MA US       15.2  42.19083   \n",
       "4  GHCND:USW00054704  NORWOOD MEMORIAL AIRPORT MA US       15.2  42.19083   \n",
       "\n",
       "   LONGITUDE      DATE          DATETIME  PRCP PRCP Measurement Flag  \\\n",
       "0  -71.17361  20100101  2010-01-01T12:00   0.0                     T   \n",
       "1  -71.17361  20100102  2010-01-02T12:00  23.0                         \n",
       "2  -71.17361  20100103  2010-01-03T12:00   5.0                         \n",
       "3  -71.17361  20100104  2010-01-04T12:00   0.0                         \n",
       "4  -71.17361  20100105  2010-01-05T12:00   0.0                         \n",
       "\n",
       "  PRCP Quality Flag           ...             TMIN  TMIN Measurement Flag  \\\n",
       "0                             ...            -38.0                          \n",
       "1                             ...            -60.0                          \n",
       "2                             ...            -93.0                          \n",
       "3                             ...            -88.0                          \n",
       "4                             ...            -93.0                          \n",
       "\n",
       "   TMIN Quality Flag TMIN Source Flag TMIN Time of Observation TOBS  \\\n",
       "0                                   W                      NaN  NaN   \n",
       "1                                   W                      NaN  NaN   \n",
       "2                                   W                      NaN  NaN   \n",
       "3                                   W                      NaN  NaN   \n",
       "4                                   W                      NaN  NaN   \n",
       "\n",
       "   TOBS Measurement Flag  TOBS Quality Flag TOBS Source Flag  \\\n",
       "0                                                              \n",
       "1                                                              \n",
       "2                                                              \n",
       "3                                                              \n",
       "4                                                              \n",
       "\n",
       "  TOBS Time of Observation  \n",
       "0                      NaN  \n",
       "1                      NaN  \n",
       "2                      NaN  \n",
       "3                      NaN  \n",
       "4                      NaN  \n",
       "\n",
       "[5 rows x 37 columns]"
      ]
     },
     "execution_count": 2,
     "metadata": {},
     "output_type": "execute_result"
    }
   ],
   "source": [
    "# Set a flag for whether to load the whole data set, or just a portion.\n",
    "load_all = False\n",
    "nb_root = \"\"\n",
    "# Read ridership data\n",
    "rides_path = \"data/hubway_2011_07_through_2013_11/%shubway_trips.csv\"\n",
    "raw_rides = pd.read_csv(nb_root + rides_path % \"\") if load_all else pd.read_csv(nb_root + rides_path % \"fewer_\")\n",
    "# Read weather data\n",
    "weather_na = (\"unknown\", \"9999\", \"-9999\")\n",
    "raw_weather = pd.read_csv(nb_root + \"data/ncdc-2013.csv\", na_values=weather_na)\n",
    "\n",
    "raw_weather.head()"
   ]
  },
  {
   "cell_type": "code",
   "execution_count": 3,
   "metadata": {
    "collapsed": false
   },
   "outputs": [
    {
     "data": {
      "text/html": [
       "<div>\n",
       "<table border=\"1\" class=\"dataframe\">\n",
       "  <thead>\n",
       "    <tr style=\"text-align: right;\">\n",
       "      <th></th>\n",
       "      <th></th>\n",
       "      <th>YEAR</th>\n",
       "      <th>MONTH</th>\n",
       "      <th>DAY</th>\n",
       "    </tr>\n",
       "    <tr>\n",
       "      <th>STATION</th>\n",
       "      <th>DATE</th>\n",
       "      <th></th>\n",
       "      <th></th>\n",
       "      <th></th>\n",
       "    </tr>\n",
       "  </thead>\n",
       "  <tbody>\n",
       "    <tr>\n",
       "      <th rowspan=\"5\" valign=\"top\">GHCND:USW00054704</th>\n",
       "      <th>20100101</th>\n",
       "      <td>2010</td>\n",
       "      <td>01</td>\n",
       "      <td>01</td>\n",
       "    </tr>\n",
       "    <tr>\n",
       "      <th>20100102</th>\n",
       "      <td>2010</td>\n",
       "      <td>01</td>\n",
       "      <td>02</td>\n",
       "    </tr>\n",
       "    <tr>\n",
       "      <th>20100103</th>\n",
       "      <td>2010</td>\n",
       "      <td>01</td>\n",
       "      <td>03</td>\n",
       "    </tr>\n",
       "    <tr>\n",
       "      <th>20100104</th>\n",
       "      <td>2010</td>\n",
       "      <td>01</td>\n",
       "      <td>04</td>\n",
       "    </tr>\n",
       "    <tr>\n",
       "      <th>20100105</th>\n",
       "      <td>2010</td>\n",
       "      <td>01</td>\n",
       "      <td>05</td>\n",
       "    </tr>\n",
       "  </tbody>\n",
       "</table>\n",
       "</div>"
      ],
      "text/plain": [
       "                            YEAR MONTH DAY\n",
       "STATION           DATE                    \n",
       "GHCND:USW00054704 20100101  2010    01  01\n",
       "                  20100102  2010    01  02\n",
       "                  20100103  2010    01  03\n",
       "                  20100104  2010    01  04\n",
       "                  20100105  2010    01  05"
      ]
     },
     "execution_count": 3,
     "metadata": {},
     "output_type": "execute_result"
    }
   ],
   "source": [
    "weather = pd.DataFrame();\n",
    "weather['STATION'] = raw_weather['STATION']\n",
    "weather['DATE'] = raw_weather['DATE']\n",
    "weather.set_index(['STATION', 'DATE'], drop=True, inplace=True)\n",
    "weather['YEAR'] = [d[0:4] for d in raw_weather['DATE'].astype(np.str_)]\n",
    "weather['MONTH'] = [d[4:6] for d in raw_weather['DATE'].astype(np.str_)]\n",
    "weather['DAY'] = [d[6:] for d in raw_weather['DATE'].astype(np.str_)]\n",
    "weather.head()\n"
   ]
  },
  {
   "cell_type": "markdown",
   "metadata": {},
   "source": [
    "## Cleaning\n",
    "Here we clean the data for analysis.  \n",
    "\n",
    "### Augmenting ridership data\n",
    "The ridership data has some properties that aren't well expressed in its current form. We calculate and add columns for the following extracted properties:  \n",
    "* Start & End day of week (0/Monday - 6/Sunday) \n",
    "* Start & End time of day (00:00 - 23:59)\n",
    "* ... Duration, rider age, ..."
   ]
  },
  {
   "cell_type": "code",
   "execution_count": 48,
   "metadata": {
    "collapsed": false
   },
   "outputs": [
    {
     "name": "stdout",
     "output_type": "stream",
     "text": [
      "Wall time: 33.3 s\n",
      "Wall time: 33.7 s\n"
     ]
    }
   ],
   "source": [
    "do_rebuild = True\n",
    "ride_pickle_name = 'rides_pickle'\n",
    "try:\n",
    "    if do_rebuild: raise 'abort.';\n",
    "    rides = pd.read_pickle(ride_pickle_name)\n",
    "except:\n",
    "    import dateutil.parser as dtp\n",
    "    rides = raw_rides.copy()\n",
    "    for endpoint in ('start', 'end'):\n",
    "        %time datetimes = [dtp.parse(d) for d in rides[endpoint + '_date']]\n",
    "        rides.loc[:,endpoint + '_datetime'] = pd.Series(datetimes, index = rides.index)\n",
    "        rides.loc[:,endpoint + '_weekday'] = pd.Series([d.weekday() for d in datetimes], index = rides.index)\n",
    "        rides.loc[:,endpoint + '_time'] = pd.Series([d.time() for d in datetimes], index = rides.index)\n",
    "    \n",
    "    rides.to_pickle(ride_pickle_name)\n",
    "\n",
    "\n"
   ]
  },
  {
   "cell_type": "markdown",
   "metadata": {},
   "source": [
    "### Augmenting weather data\n",
    "The raw weather data needs measurement flag columns renamed to associate them with the measurement dimensions they describe.  For now, we use pre-processed data.\n"
   ]
  },
  {
   "cell_type": "code",
   "execution_count": null,
   "metadata": {
    "collapsed": true
   },
   "outputs": [],
   "source": []
  },
  {
   "cell_type": "markdown",
   "metadata": {},
   "source": [
    "# Formulating the likelihood\n",
    "To generate a posterior predictive, we will eventually need\n",
    "$$ P(\\Theta | D) = \\frac{P(D|\\Theta)P(\\Theta)}{P(D)} $$\n",
    "The likelihood is a product over all of our ridership data $R$ and spread across heirarchical model components $L$ for each rental location:\n",
    "$$ \\mathscr{L} = P(D | \\Theta) = \\prod_R { \\sum_L { p\\left(t_d, w_d, \\omega, s\\ |\\ \\mu_t, \\sigma_t, \\lambda_d, c\\right) } } $$\n",
    "\n",
    "With data dimensions:  \n",
    "$t_d$: Time of departure $\\in$ $[$0/Midnight $\\dots$ 43200/Noon $\\dots$ 86400/Midnight$)$  \n",
    "$w_d$: Weekday of departure $\\in$ $\\{$0/Monday $\\dots$ 6/Sunday$\\}$  \n",
    "$\\omega$: Weather quality $\\propto {f}($temperature, sunlight, $\\dots)$  \n",
    "$s$: Subscription status $\\in$ $\\{0,1\\}$\n",
    "\n",
    "With model parameters:  \n",
    "$\\mu_t$: Mean time of departure $\\in$ $[$0/Midnight $\\dots$ 43200/Noon $\\dots$ 86400/Midnight$)$  \n",
    "$\\sigma_t$: Deviation in time of departure $\\in$ $[0,\\infty)$  \n",
    "$\\lambda_w$: Ratio of weekday departures $\\in$ $[0,1)$ such that $\\left(\\sum_{i=0}^{6}{\\lambda_{w_i}}\\right) = 1$  \n",
    "$c$: Rider Commitment $\\in$ $\\{$0/Joyrider, 1/Commuter$\\}$  \n"
   ]
  },
  {
   "cell_type": "markdown",
   "metadata": {},
   "source": [
    "The likelihood is a beast.  First, we can write the location-likelihood as a linear function of the fair-weather likelihood:  \n",
    "$$\\mathscr{L}_L = \\omega(\\mathscr{L}_f) + b + \\varepsilon$$\n",
    "The fair-weather likelihood is a rat's nest of multinomials finally wrapping a normal:  \n",
    "$$\\mathscr{L}_f = (1-c)\\left(\\sum_d{\\lambda_d\\left(exp\\left[\\frac{-(t_d-\\mu_{t_L})^2}{{\\sigma_t}^2}\\right]\\right)}\\right)\\cdot c\\left( \\text{some mixture of gaussians?} \\right)$$"
   ]
  },
  {
   "cell_type": "markdown",
   "metadata": {},
   "source": [
    "## Labeling commitment on weekday rides\n",
    "\n",
    "We will use expectation maximization to attempt recovery of the hidden commitment label $c$."
   ]
  },
  {
   "cell_type": "code",
   "execution_count": 7,
   "metadata": {
    "collapsed": false
   },
   "outputs": [
    {
     "data": {
      "text/html": [
       "<div>\n",
       "<table border=\"1\" class=\"dataframe\">\n",
       "  <thead>\n",
       "    <tr style=\"text-align: right;\">\n",
       "      <th></th>\n",
       "      <th>seq_id</th>\n",
       "      <th>hubway_id</th>\n",
       "      <th>status</th>\n",
       "      <th>duration</th>\n",
       "      <th>start_date</th>\n",
       "      <th>strt_statn</th>\n",
       "      <th>end_date</th>\n",
       "      <th>end_statn</th>\n",
       "      <th>bike_nr</th>\n",
       "      <th>subsc_type</th>\n",
       "      <th>zip_code</th>\n",
       "      <th>birth_date</th>\n",
       "      <th>gender</th>\n",
       "      <th>start_datetime</th>\n",
       "      <th>start_weekday</th>\n",
       "      <th>start_time</th>\n",
       "      <th>end_datetime</th>\n",
       "      <th>end_weekday</th>\n",
       "      <th>end_time</th>\n",
       "    </tr>\n",
       "  </thead>\n",
       "  <tbody>\n",
       "    <tr>\n",
       "      <th>0</th>\n",
       "      <td>1</td>\n",
       "      <td>8</td>\n",
       "      <td>Closed</td>\n",
       "      <td>9</td>\n",
       "      <td>7/28/2011 10:12:00</td>\n",
       "      <td>23</td>\n",
       "      <td>7/28/2011 10:12:00</td>\n",
       "      <td>23.0</td>\n",
       "      <td>B00468</td>\n",
       "      <td>Registered</td>\n",
       "      <td>'97217</td>\n",
       "      <td>1976.0</td>\n",
       "      <td>Male</td>\n",
       "      <td>2011-07-28 10:12:00</td>\n",
       "      <td>3</td>\n",
       "      <td>10:12:00</td>\n",
       "      <td>2011-07-28 10:12:00</td>\n",
       "      <td>3</td>\n",
       "      <td>10:12:00</td>\n",
       "    </tr>\n",
       "    <tr>\n",
       "      <th>1</th>\n",
       "      <td>2</td>\n",
       "      <td>9</td>\n",
       "      <td>Closed</td>\n",
       "      <td>220</td>\n",
       "      <td>7/28/2011 10:21:00</td>\n",
       "      <td>23</td>\n",
       "      <td>7/28/2011 10:25:00</td>\n",
       "      <td>23.0</td>\n",
       "      <td>B00554</td>\n",
       "      <td>Registered</td>\n",
       "      <td>'02215</td>\n",
       "      <td>1966.0</td>\n",
       "      <td>Male</td>\n",
       "      <td>2011-07-28 10:21:00</td>\n",
       "      <td>3</td>\n",
       "      <td>10:21:00</td>\n",
       "      <td>2011-07-28 10:25:00</td>\n",
       "      <td>3</td>\n",
       "      <td>10:25:00</td>\n",
       "    </tr>\n",
       "    <tr>\n",
       "      <th>2</th>\n",
       "      <td>3</td>\n",
       "      <td>10</td>\n",
       "      <td>Closed</td>\n",
       "      <td>56</td>\n",
       "      <td>7/28/2011 10:33:00</td>\n",
       "      <td>23</td>\n",
       "      <td>7/28/2011 10:34:00</td>\n",
       "      <td>23.0</td>\n",
       "      <td>B00456</td>\n",
       "      <td>Registered</td>\n",
       "      <td>'02108</td>\n",
       "      <td>1943.0</td>\n",
       "      <td>Male</td>\n",
       "      <td>2011-07-28 10:33:00</td>\n",
       "      <td>3</td>\n",
       "      <td>10:33:00</td>\n",
       "      <td>2011-07-28 10:34:00</td>\n",
       "      <td>3</td>\n",
       "      <td>10:34:00</td>\n",
       "    </tr>\n",
       "    <tr>\n",
       "      <th>3</th>\n",
       "      <td>4</td>\n",
       "      <td>11</td>\n",
       "      <td>Closed</td>\n",
       "      <td>64</td>\n",
       "      <td>7/28/2011 10:35:00</td>\n",
       "      <td>23</td>\n",
       "      <td>7/28/2011 10:36:00</td>\n",
       "      <td>23.0</td>\n",
       "      <td>B00554</td>\n",
       "      <td>Registered</td>\n",
       "      <td>'02116</td>\n",
       "      <td>1981.0</td>\n",
       "      <td>Female</td>\n",
       "      <td>2011-07-28 10:35:00</td>\n",
       "      <td>3</td>\n",
       "      <td>10:35:00</td>\n",
       "      <td>2011-07-28 10:36:00</td>\n",
       "      <td>3</td>\n",
       "      <td>10:36:00</td>\n",
       "    </tr>\n",
       "    <tr>\n",
       "      <th>4</th>\n",
       "      <td>5</td>\n",
       "      <td>12</td>\n",
       "      <td>Closed</td>\n",
       "      <td>12</td>\n",
       "      <td>7/28/2011 10:37:00</td>\n",
       "      <td>23</td>\n",
       "      <td>7/28/2011 10:37:00</td>\n",
       "      <td>23.0</td>\n",
       "      <td>B00554</td>\n",
       "      <td>Registered</td>\n",
       "      <td>'97214</td>\n",
       "      <td>1983.0</td>\n",
       "      <td>Female</td>\n",
       "      <td>2011-07-28 10:37:00</td>\n",
       "      <td>3</td>\n",
       "      <td>10:37:00</td>\n",
       "      <td>2011-07-28 10:37:00</td>\n",
       "      <td>3</td>\n",
       "      <td>10:37:00</td>\n",
       "    </tr>\n",
       "  </tbody>\n",
       "</table>\n",
       "</div>"
      ],
      "text/plain": [
       "   seq_id  hubway_id  status  duration          start_date  strt_statn  \\\n",
       "0       1          8  Closed         9  7/28/2011 10:12:00          23   \n",
       "1       2          9  Closed       220  7/28/2011 10:21:00          23   \n",
       "2       3         10  Closed        56  7/28/2011 10:33:00          23   \n",
       "3       4         11  Closed        64  7/28/2011 10:35:00          23   \n",
       "4       5         12  Closed        12  7/28/2011 10:37:00          23   \n",
       "\n",
       "             end_date  end_statn bike_nr  subsc_type zip_code  birth_date  \\\n",
       "0  7/28/2011 10:12:00       23.0  B00468  Registered   '97217      1976.0   \n",
       "1  7/28/2011 10:25:00       23.0  B00554  Registered   '02215      1966.0   \n",
       "2  7/28/2011 10:34:00       23.0  B00456  Registered   '02108      1943.0   \n",
       "3  7/28/2011 10:36:00       23.0  B00554  Registered   '02116      1981.0   \n",
       "4  7/28/2011 10:37:00       23.0  B00554  Registered   '97214      1983.0   \n",
       "\n",
       "   gender      start_datetime  start_weekday start_time        end_datetime  \\\n",
       "0    Male 2011-07-28 10:12:00              3   10:12:00 2011-07-28 10:12:00   \n",
       "1    Male 2011-07-28 10:21:00              3   10:21:00 2011-07-28 10:25:00   \n",
       "2    Male 2011-07-28 10:33:00              3   10:33:00 2011-07-28 10:34:00   \n",
       "3  Female 2011-07-28 10:35:00              3   10:35:00 2011-07-28 10:36:00   \n",
       "4  Female 2011-07-28 10:37:00              3   10:37:00 2011-07-28 10:37:00   \n",
       "\n",
       "   end_weekday  end_time  \n",
       "0            3  10:12:00  \n",
       "1            3  10:25:00  \n",
       "2            3  10:34:00  \n",
       "3            3  10:36:00  \n",
       "4            3  10:37:00  "
      ]
     },
     "execution_count": 10,
     "metadata": {},
     "output_type": "execute_result"
    }
   ],
   "source": [
    "rides.head()"
   ]
  },
  {
   "cell_type": "code",
   "execution_count": 79,
   "metadata": {
    "collapsed": false
   },
   "outputs": [
    {
     "name": "stdout",
     "output_type": "stream",
     "text": [
      "(array([  74,  179,  329,  805, 1235, 1081, 1316, 1768, 2576, 2258, 1942,\n",
      "       2641, 2038, 2105, 2028, 1558, 1374, 1728, 1382, 1478, 1381, 1262,\n",
      "        946,  900, 1408,  833,  953,  881, 1318,  793,  580,  819, 1016,\n",
      "        521,  718,  758,  564,  777,  527,  405,  293,  457,  282,  189,\n",
      "        286,  181,  150,  202,  114,  125,   41,   23,   54,    5,   27,\n",
      "         14,   13,    0,    0,    0,    0,    5], dtype=int64), array([ 17.,  18.,  19.,  20.,  21.,  22.,  23.,  24.,  25.,  26.,  27.,\n",
      "        28.,  29.,  30.,  31.,  32.,  33.,  34.,  35.,  36.,  37.,  38.,\n",
      "        39.,  40.,  41.,  42.,  43.,  44.,  45.,  46.,  47.,  48.,  49.,\n",
      "        50.,  51.,  52.,  53.,  54.,  55.,  56.,  57.,  58.,  59.,  60.,\n",
      "        61.,  62.,  63.,  64.,  65.,  66.,  67.,  68.,  69.,  70.,  71.,\n",
      "        72.,  73.,  74.,  75.,  76.,  77.,  78.,  79.]))\n"
     ]
    },
    {
     "data": {
      "image/png": "[encoded data removed]",
      "text/plain": [
       "<matplotlib.figure.Figure at 0x213d3eb8>"
      ]
     },
     "metadata": {},
     "output_type": "display_data"
    }
   ],
   "source": [
    "rides = rides.dropna()\n",
    "ages = [d.year for d in rides['start_datetime']] - rides['birth_date']\n",
    "\n",
    "nbins = np.max(ages) - np.min(ages)\n",
    "print np.histogram(ages, bins=nbins)\n",
    "plt.hist(ages, bins=nbins)\n",
    "plt.show()\n"
   ]
  },
  {
   "cell_type": "code",
   "execution_count": 60,
   "metadata": {
    "collapsed": false
   },
   "outputs": [
    {
     "name": "stdout",
     "output_type": "stream",
     "text": [
      "79.0\n"
     ]
    }
   ],
   "source": []
  },
  {
   "cell_type": "code",
   "execution_count": 61,
   "metadata": {
    "collapsed": false
   },
   "outputs": [
    {
     "name": "stdout",
     "output_type": "stream",
     "text": [
      "35.6460395048\n"
     ]
    }
   ],
   "source": []
  },
  {
   "cell_type": "code",
   "execution_count": 63,
   "metadata": {
    "collapsed": false
   },
   "outputs": [
    {
     "data": {
      "text/plain": [
       "(array([0, 0, 0, 0, 0, 0, 0, 0, 0, 0], dtype=int64),\n",
       " array([ nan,  nan,  nan,  nan,  nan,  nan,  nan,  nan,  nan,  nan,  nan]))"
      ]
     },
     "execution_count": 63,
     "metadata": {},
     "output_type": "execute_result"
    }
   ],
   "source": []
  },
  {
   "cell_type": "code",
   "execution_count": 81,
   "metadata": {
    "collapsed": false
   },
   "outputs": [
    {
     "data": {
      "text/plain": [
       "33.9604"
      ]
     },
     "execution_count": 81,
     "metadata": {},
     "output_type": "execute_result"
    }
   ],
   "source": [
    "28.78*1.18"
   ]
  },
  {
   "cell_type": "code",
   "execution_count": null,
   "metadata": {
    "collapsed": true
   },
   "outputs": [],
   "source": []
  }
 ],
 "metadata": {
  "kernelspec": {
   "display_name": "Python 2",
   "language": "python",
   "name": "python2"
  },
  "language_info": {
   "codemirror_mode": {
    "name": "ipython",
    "version": 2
   },
   "file_extension": ".py",
   "mimetype": "text/x-python",
   "name": "python",
   "nbconvert_exporter": "python",
   "pygments_lexer": "ipython2",
   "version": "2.7.11"
  }
 },
 "nbformat": 4,
 "nbformat_minor": 0
}
