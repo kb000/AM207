{
 "cells": [
  {
   "cell_type": "markdown",
   "metadata": {},
   "source": [
    "# Fair Weather Pedalers\n",
    "Harvard APMA-E207/AM207 Spring 2016 final project\n",
    "Kevin Burek <kevin.burek@gmail.com> and Josh Mclellan <jvl.mclellan@gmail.com>\n",
    "\n",
    "## Preliminary visualizations of Hubway ride data"
   ]
  },
  {
   "cell_type": "code",
   "execution_count": 26,
   "metadata": {
    "collapsed": true
   },
   "outputs": [],
   "source": [
    "import numpy as np\n",
    "import matplotlib\n",
    "import matplotlib.pyplot as plt\n",
    "%matplotlib inline\n",
    "\n",
    "import seaborn as sns\n",
    "sns.set_style(\"white\")\n",
    "\n",
    "import time\n",
    "import timeit\n",
    "\n",
    "import scipy.stats \n",
    "import pandas as pd\n",
    "import pymc as pm\n",
    "\n",
    "import re\n",
    "import numpy as np\n",
    "\n",
    "import datetime as dt"
   ]
  },
  {
   "cell_type": "code",
   "execution_count": 34,
   "metadata": {
    "collapsed": false
   },
   "outputs": [],
   "source": [
    "trips_csv = '../data/hubway_2011_07_through_2013_11/hubway_trips.csv'\n",
    "trips_csv = '../data/hubway_2011_07_through_2013_11/fewer_hubway_trips.csv'\n",
    "#trips_csv = '../data/hubway_2011_07_through_2013_11/fewest_hubway_trips.csv'\n",
    "\n",
    "ride_data = np.genfromtxt(trips_csv, delimiter=',')\n",
    "ride_df = pd.read_csv(trips_csv)"
   ]
  },
  {
   "cell_type": "code",
   "execution_count": 35,
   "metadata": {
    "collapsed": false
   },
   "outputs": [
    {
     "data": {
      "text/html": [
       "<div>\n",
       "<table border=\"1\" class=\"dataframe\">\n",
       "  <thead>\n",
       "    <tr style=\"text-align: right;\">\n",
       "      <th></th>\n",
       "      <th>seq_id</th>\n",
       "      <th>hubway_id</th>\n",
       "      <th>status</th>\n",
       "      <th>duration</th>\n",
       "      <th>start_date</th>\n",
       "      <th>strt_statn</th>\n",
       "      <th>end_date</th>\n",
       "      <th>end_statn</th>\n",
       "      <th>bike_nr</th>\n",
       "      <th>subsc_type</th>\n",
       "      <th>zip_code</th>\n",
       "      <th>birth_date</th>\n",
       "      <th>gender</th>\n",
       "    </tr>\n",
       "  </thead>\n",
       "  <tbody>\n",
       "    <tr>\n",
       "      <th>0</th>\n",
       "      <td>1</td>\n",
       "      <td>8</td>\n",
       "      <td>Closed</td>\n",
       "      <td>9</td>\n",
       "      <td>7/28/2011 10:12:00</td>\n",
       "      <td>23</td>\n",
       "      <td>7/28/2011 10:12:00</td>\n",
       "      <td>23</td>\n",
       "      <td>B00468</td>\n",
       "      <td>Registered</td>\n",
       "      <td>'97217</td>\n",
       "      <td>1976</td>\n",
       "      <td>Male</td>\n",
       "    </tr>\n",
       "    <tr>\n",
       "      <th>1</th>\n",
       "      <td>2</td>\n",
       "      <td>9</td>\n",
       "      <td>Closed</td>\n",
       "      <td>220</td>\n",
       "      <td>7/28/2011 10:21:00</td>\n",
       "      <td>23</td>\n",
       "      <td>7/28/2011 10:25:00</td>\n",
       "      <td>23</td>\n",
       "      <td>B00554</td>\n",
       "      <td>Registered</td>\n",
       "      <td>'02215</td>\n",
       "      <td>1966</td>\n",
       "      <td>Male</td>\n",
       "    </tr>\n",
       "    <tr>\n",
       "      <th>2</th>\n",
       "      <td>3</td>\n",
       "      <td>10</td>\n",
       "      <td>Closed</td>\n",
       "      <td>56</td>\n",
       "      <td>7/28/2011 10:33:00</td>\n",
       "      <td>23</td>\n",
       "      <td>7/28/2011 10:34:00</td>\n",
       "      <td>23</td>\n",
       "      <td>B00456</td>\n",
       "      <td>Registered</td>\n",
       "      <td>'02108</td>\n",
       "      <td>1943</td>\n",
       "      <td>Male</td>\n",
       "    </tr>\n",
       "    <tr>\n",
       "      <th>3</th>\n",
       "      <td>4</td>\n",
       "      <td>11</td>\n",
       "      <td>Closed</td>\n",
       "      <td>64</td>\n",
       "      <td>7/28/2011 10:35:00</td>\n",
       "      <td>23</td>\n",
       "      <td>7/28/2011 10:36:00</td>\n",
       "      <td>23</td>\n",
       "      <td>B00554</td>\n",
       "      <td>Registered</td>\n",
       "      <td>'02116</td>\n",
       "      <td>1981</td>\n",
       "      <td>Female</td>\n",
       "    </tr>\n",
       "    <tr>\n",
       "      <th>4</th>\n",
       "      <td>5</td>\n",
       "      <td>12</td>\n",
       "      <td>Closed</td>\n",
       "      <td>12</td>\n",
       "      <td>7/28/2011 10:37:00</td>\n",
       "      <td>23</td>\n",
       "      <td>7/28/2011 10:37:00</td>\n",
       "      <td>23</td>\n",
       "      <td>B00554</td>\n",
       "      <td>Registered</td>\n",
       "      <td>'97214</td>\n",
       "      <td>1983</td>\n",
       "      <td>Female</td>\n",
       "    </tr>\n",
       "  </tbody>\n",
       "</table>\n",
       "</div>"
      ],
      "text/plain": [
       "   seq_id  hubway_id  status  duration          start_date  strt_statn  \\\n",
       "0       1          8  Closed         9  7/28/2011 10:12:00          23   \n",
       "1       2          9  Closed       220  7/28/2011 10:21:00          23   \n",
       "2       3         10  Closed        56  7/28/2011 10:33:00          23   \n",
       "3       4         11  Closed        64  7/28/2011 10:35:00          23   \n",
       "4       5         12  Closed        12  7/28/2011 10:37:00          23   \n",
       "\n",
       "             end_date  end_statn bike_nr  subsc_type zip_code  birth_date  \\\n",
       "0  7/28/2011 10:12:00         23  B00468  Registered   '97217        1976   \n",
       "1  7/28/2011 10:25:00         23  B00554  Registered   '02215        1966   \n",
       "2  7/28/2011 10:34:00         23  B00456  Registered   '02108        1943   \n",
       "3  7/28/2011 10:36:00         23  B00554  Registered   '02116        1981   \n",
       "4  7/28/2011 10:37:00         23  B00554  Registered   '97214        1983   \n",
       "\n",
       "   gender  \n",
       "0    Male  \n",
       "1    Male  \n",
       "2    Male  \n",
       "3  Female  \n",
       "4  Female  "
      ]
     },
     "execution_count": 35,
     "metadata": {},
     "output_type": "execute_result"
    }
   ],
   "source": [
    "ride_df.head()"
   ]
  },
  {
   "cell_type": "markdown",
   "metadata": {},
   "source": [
    "### Adding calculated columns\n",
    "In order to analyze the data easily, we need to add some columns to the data frame that extract deterministic properties of the data rows.  Such as day of week and hour of day, from the otherwise plaintext start_date and end_date columns. "
   ]
  },
  {
   "cell_type": "code",
   "execution_count": 36,
   "metadata": {
    "collapsed": false
   },
   "outputs": [],
   "source": [
    "# Figure out how to parse an example time value.\n",
    "egtime = ride_df['start_date'][0]\n",
    "import dateutil.parser as dtp\n",
    "time = dtp.parse(egtime)\n",
    "\n",
    "for endpoint in ('start', 'end'):\n",
    "    weekdays = [dtp.parse(d).weekday() for d in ride_df[endpoint + '_date']]\n",
    "    ride_df.loc[:,endpoint + '_weekday'] = pd.Series(weekdays, index = ride_df.index)\n",
    "    daytimes = [dtp.parse(d).time() for d in ride_df[endpoint + '_date']]\n",
    "    ride_df.loc[:,endpoint + '_time'] = pd.Series(daytimes, index = ride_df.index)"
   ]
  },
  {
   "cell_type": "code",
   "execution_count": 37,
   "metadata": {
    "collapsed": false
   },
   "outputs": [
    {
     "data": {
      "text/html": [
       "<div>\n",
       "<table border=\"1\" class=\"dataframe\">\n",
       "  <thead>\n",
       "    <tr style=\"text-align: right;\">\n",
       "      <th></th>\n",
       "      <th>seq_id</th>\n",
       "      <th>hubway_id</th>\n",
       "      <th>status</th>\n",
       "      <th>duration</th>\n",
       "      <th>start_date</th>\n",
       "      <th>strt_statn</th>\n",
       "      <th>end_date</th>\n",
       "      <th>end_statn</th>\n",
       "      <th>bike_nr</th>\n",
       "      <th>subsc_type</th>\n",
       "      <th>zip_code</th>\n",
       "      <th>birth_date</th>\n",
       "      <th>gender</th>\n",
       "      <th>start_weekday</th>\n",
       "      <th>start_time</th>\n",
       "      <th>end_weekday</th>\n",
       "      <th>end_time</th>\n",
       "    </tr>\n",
       "  </thead>\n",
       "  <tbody>\n",
       "    <tr>\n",
       "      <th>0</th>\n",
       "      <td>1</td>\n",
       "      <td>8</td>\n",
       "      <td>Closed</td>\n",
       "      <td>9</td>\n",
       "      <td>7/28/2011 10:12:00</td>\n",
       "      <td>23</td>\n",
       "      <td>7/28/2011 10:12:00</td>\n",
       "      <td>23</td>\n",
       "      <td>B00468</td>\n",
       "      <td>Registered</td>\n",
       "      <td>'97217</td>\n",
       "      <td>1976</td>\n",
       "      <td>Male</td>\n",
       "      <td>3</td>\n",
       "      <td>10:12:00</td>\n",
       "      <td>3</td>\n",
       "      <td>10:12:00</td>\n",
       "    </tr>\n",
       "    <tr>\n",
       "      <th>1</th>\n",
       "      <td>2</td>\n",
       "      <td>9</td>\n",
       "      <td>Closed</td>\n",
       "      <td>220</td>\n",
       "      <td>7/28/2011 10:21:00</td>\n",
       "      <td>23</td>\n",
       "      <td>7/28/2011 10:25:00</td>\n",
       "      <td>23</td>\n",
       "      <td>B00554</td>\n",
       "      <td>Registered</td>\n",
       "      <td>'02215</td>\n",
       "      <td>1966</td>\n",
       "      <td>Male</td>\n",
       "      <td>3</td>\n",
       "      <td>10:21:00</td>\n",
       "      <td>3</td>\n",
       "      <td>10:25:00</td>\n",
       "    </tr>\n",
       "    <tr>\n",
       "      <th>2</th>\n",
       "      <td>3</td>\n",
       "      <td>10</td>\n",
       "      <td>Closed</td>\n",
       "      <td>56</td>\n",
       "      <td>7/28/2011 10:33:00</td>\n",
       "      <td>23</td>\n",
       "      <td>7/28/2011 10:34:00</td>\n",
       "      <td>23</td>\n",
       "      <td>B00456</td>\n",
       "      <td>Registered</td>\n",
       "      <td>'02108</td>\n",
       "      <td>1943</td>\n",
       "      <td>Male</td>\n",
       "      <td>3</td>\n",
       "      <td>10:33:00</td>\n",
       "      <td>3</td>\n",
       "      <td>10:34:00</td>\n",
       "    </tr>\n",
       "    <tr>\n",
       "      <th>3</th>\n",
       "      <td>4</td>\n",
       "      <td>11</td>\n",
       "      <td>Closed</td>\n",
       "      <td>64</td>\n",
       "      <td>7/28/2011 10:35:00</td>\n",
       "      <td>23</td>\n",
       "      <td>7/28/2011 10:36:00</td>\n",
       "      <td>23</td>\n",
       "      <td>B00554</td>\n",
       "      <td>Registered</td>\n",
       "      <td>'02116</td>\n",
       "      <td>1981</td>\n",
       "      <td>Female</td>\n",
       "      <td>3</td>\n",
       "      <td>10:35:00</td>\n",
       "      <td>3</td>\n",
       "      <td>10:36:00</td>\n",
       "    </tr>\n",
       "    <tr>\n",
       "      <th>4</th>\n",
       "      <td>5</td>\n",
       "      <td>12</td>\n",
       "      <td>Closed</td>\n",
       "      <td>12</td>\n",
       "      <td>7/28/2011 10:37:00</td>\n",
       "      <td>23</td>\n",
       "      <td>7/28/2011 10:37:00</td>\n",
       "      <td>23</td>\n",
       "      <td>B00554</td>\n",
       "      <td>Registered</td>\n",
       "      <td>'97214</td>\n",
       "      <td>1983</td>\n",
       "      <td>Female</td>\n",
       "      <td>3</td>\n",
       "      <td>10:37:00</td>\n",
       "      <td>3</td>\n",
       "      <td>10:37:00</td>\n",
       "    </tr>\n",
       "  </tbody>\n",
       "</table>\n",
       "</div>"
      ],
      "text/plain": [
       "   seq_id  hubway_id  status  duration          start_date  strt_statn  \\\n",
       "0       1          8  Closed         9  7/28/2011 10:12:00          23   \n",
       "1       2          9  Closed       220  7/28/2011 10:21:00          23   \n",
       "2       3         10  Closed        56  7/28/2011 10:33:00          23   \n",
       "3       4         11  Closed        64  7/28/2011 10:35:00          23   \n",
       "4       5         12  Closed        12  7/28/2011 10:37:00          23   \n",
       "\n",
       "             end_date  end_statn bike_nr  subsc_type zip_code  birth_date  \\\n",
       "0  7/28/2011 10:12:00         23  B00468  Registered   '97217        1976   \n",
       "1  7/28/2011 10:25:00         23  B00554  Registered   '02215        1966   \n",
       "2  7/28/2011 10:34:00         23  B00456  Registered   '02108        1943   \n",
       "3  7/28/2011 10:36:00         23  B00554  Registered   '02116        1981   \n",
       "4  7/28/2011 10:37:00         23  B00554  Registered   '97214        1983   \n",
       "\n",
       "   gender  start_weekday start_time  end_weekday  end_time  \n",
       "0    Male              3   10:12:00            3  10:12:00  \n",
       "1    Male              3   10:21:00            3  10:25:00  \n",
       "2    Male              3   10:33:00            3  10:34:00  \n",
       "3  Female              3   10:35:00            3  10:36:00  \n",
       "4  Female              3   10:37:00            3  10:37:00  "
      ]
     },
     "execution_count": 37,
     "metadata": {},
     "output_type": "execute_result"
    }
   ],
   "source": [
    "ride_df.head()"
   ]
  },
  {
   "cell_type": "code",
   "execution_count": 40,
   "metadata": {
    "collapsed": false
   },
   "outputs": [],
   "source": [
    "from numpy import array as A\n",
    "ride_seconds = [(t.hour*60 + t.minute)*60 + t.second for t in ride_df['start_time']]"
   ]
  },
  {
   "cell_type": "code",
   "execution_count": 63,
   "metadata": {
    "collapsed": false
   },
   "outputs": [
    {
     "data": {
      "image/png": "[encoded data removed]",
      "text/plain": [
       "<matplotlib.figure.Figure at 0x279cca20>"
      ]
     },
     "metadata": {},
     "output_type": "display_data"
    }
   ],
   "source": [
    "plt.hist(ride_seconds, bins=24)\n",
    "plt.xlim((0, 24*3600))\n",
    "plt.xticks(np.linspace(0,24*3600, 24))\n",
    "plt.gca().set_xticklabels((np.arange(0,24,1) % 12 + 1)[(11,0,1,2,3,4,5,6,7,8,9,10)*2,])\n",
    "plt.title(\"Hubway rides (n=100,000)\")\n",
    "plt.xlabel(\"Hour of day\")\n",
    "plt.ylabel(\"Count of started rides\")\n",
    "plt.show()"
   ]
  },
  {
   "cell_type": "code",
   "execution_count": null,
   "metadata": {
    "collapsed": true
   },
   "outputs": [],
   "source": []
  }
 ],
 "metadata": {
  "kernelspec": {
   "display_name": "Python 2",
   "language": "python",
   "name": "python2"
  },
  "language_info": {
   "codemirror_mode": {
    "name": "ipython",
    "version": 2
   },
   "file_extension": ".py",
   "mimetype": "text/x-python",
   "name": "python",
   "nbconvert_exporter": "python",
   "pygments_lexer": "ipython2",
   "version": "2.7.11"
  }
 },
 "nbformat": 4,
 "nbformat_minor": 0
}
